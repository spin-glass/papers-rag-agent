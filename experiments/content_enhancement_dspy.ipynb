{
  "cells": [
    {
      "cell_type": "markdown",
      "metadata": {},
      "source": [
        "# Content Enhancement DsPY実験\n",
        "\n",
        "このノートブックでは、`content_enhancement.py`のプロンプトをDsPYで実験します。\n",
        "\n",
        "## 実験内容\n",
        "- Cornell Note生成プロンプトの最適化\n",
        "- Quiz生成プロンプトの最適化\n",
        "- プロンプトエンジニアリングの効果測定\n"
      ]
    },
    {
      "cell_type": "code",
      "execution_count": 16,
      "metadata": {},
      "outputs": [
        {
          "name": "stdout",
          "output_type": "stream",
          "text": [
            "✅ ライブラリのインポート完了\n"
          ]
        }
      ],
      "source": [
        "# ライブラリのインポート\n",
        "import os\n",
        "import sys\n",
        "from pathlib import Path\n",
        "\n",
        "# プロジェクトルートをパスに追加\n",
        "project_root = Path.cwd().parent\n",
        "sys.path.append(str(project_root))\n",
        "\n",
        "# DsPY関連\n",
        "import dspy\n",
        "\n",
        "# プロジェクト関連\n",
        "from src.models import CornellNote, QuizItem, QuizOption, AnswerResult\n",
        "from src.graphs.content_enhancement import (\n",
        "    create_content_enhancement_graph,\n",
        "    enhance_answer_content,\n",
        "    cornell_note_generation_node,\n",
        "    ContentEnhancementState\n",
        ")\n",
        "from src.config import get_openai_api_key_safe\n",
        "\n",
        "print(\"✅ ライブラリのインポート完了\")\n"
      ]
    },
    {
      "cell_type": "code",
      "execution_count": 17,
      "metadata": {},
      "outputs": [
        {
          "data": {
            "text/plain": [
              "src.graphs.content_enhancement.ContentEnhancementState"
            ]
          },
          "execution_count": 17,
          "metadata": {},
          "output_type": "execute_result"
        }
      ],
      "source": [
        "ContentEnhancementState\n"
      ]
    },
    {
      "cell_type": "code",
      "execution_count": 15,
      "metadata": {},
      "outputs": [
        {
          "data": {
            "text/plain": [
              "<function src.graphs.content_enhancement.cornell_note_generation_node(state: src.graphs.content_enhancement.ContentEnhancementState) -> src.graphs.content_enhancement.ContentEnhancementState>"
            ]
          },
          "execution_count": 15,
          "metadata": {},
          "output_type": "execute_result"
        }
      ],
      "source": [
        "cornell_note_generation_node\n"
      ]
    },
    {
      "cell_type": "code",
      "execution_count": 11,
      "metadata": {},
      "outputs": [
        {
          "data": {
            "text/plain": [
              "<function src.graphs.content_enhancement.cornell_note_generation_node(state: src.graphs.content_enhancement.ContentEnhancementState) -> src.graphs.content_enhancement.ContentEnhancementState>"
            ]
          },
          "execution_count": 11,
          "metadata": {},
          "output_type": "execute_result"
        }
      ],
      "source": [
        "# DsPYの設定\n",
        "api_key = get_openai_api_key_safe()\n",
        "if api_key:\n",
        "    lm = dspy.OpenAI(model=\"gpt-4o-mini\", api_key=api_key, max_tokens=2000)\n",
        "    dspy.settings.configure(lm=lm)\n",
        "    print(\"✅ DsPY設定完了 (OpenAI)\")\n",
        "else:\n",
        "    print(\"⚠️ OpenAI API key not found, using mock LM\")\n",
        "    lm = dspy.LM(model=\"mock\")\n",
        "    dspy.settings.configure(lm=lm)\n"
      ]
    },
    {
      "cell_type": "markdown",
      "metadata": {},
      "source": [
        "## Cornell Note生成のDsPY実装\n"
      ]
    },
    {
      "cell_type": "code",
      "execution_count": null,
      "metadata": {},
      "outputs": [],
      "source": [
        "# Cornell Note生成のDsPYクラス\n",
        "class CornellNoteGenerator(dspy.Signature):\n",
        "    \"\"\"Cornell Note生成のためのDsPYシグネチャ\"\"\"\n",
        "\n",
        "    question = dspy.InputField(desc=\"ユーザーの質問\")\n",
        "    answer_text = dspy.InputField(desc=\"回答テキスト\")\n",
        "    citations = dspy.InputField(desc=\"引用文献のリスト\")\n",
        "\n",
        "    cue = dspy.OutputField(desc=\"キーコンセプトと用語（1-2の短いフレーズ）\")\n",
        "    notes = dspy.OutputField(desc=\"論文のYAMLリスト、各論文にtitle（Markdownリンク）とpoints（2-4の簡潔な文）を含む\")\n",
        "    summary = dspy.OutputField(desc=\"全論文の1-2文の要約\")\n",
        "\n",
        "\n",
        "class CornellNoteModule(dspy.Module):\n",
        "    \"\"\"Cornell Note生成モジュール\"\"\"\n",
        "\n",
        "    def __init__(self):\n",
        "        super().__init__()\n",
        "        self.generate = dspy.ChainOfThought(CornellNoteGenerator)\n",
        "\n",
        "    def forward(self, question, answer_text, citations):\n",
        "        # 引用文献を文字列に変換\n",
        "        citation_list = \"\\n\".join(f\"- {c['title']} -> {c['link'].replace('http://','https://')}\" for c in citations)\n",
        "\n",
        "        return self.generate(\n",
        "            question=question,\n",
        "            answer_text=answer_text,\n",
        "            citations=citation_list\n",
        "        )\n",
        "\n",
        "print(\"✅ Cornell Note生成モジュール定義完了\")\n"
      ]
    },
    {
      "cell_type": "markdown",
      "metadata": {},
      "source": [
        "## Quiz生成のDsPY実装\n"
      ]
    },
    {
      "cell_type": "code",
      "execution_count": null,
      "metadata": {},
      "outputs": [],
      "source": [
        "# Quiz生成のDsPYクラス\n",
        "class QuizGenerator(dspy.Signature):\n",
        "    \"\"\"Quiz生成のためのDsPYシグネチャ\"\"\"\n",
        "\n",
        "    question = dspy.InputField(desc=\"ユーザーの質問\")\n",
        "    answer_text = dspy.InputField(desc=\"回答テキスト\")\n",
        "\n",
        "    quiz_questions = dspy.OutputField(desc=\"理解をテストするための2つの多肢選択問題（各問題に4つの選択肢と正解を含む）\")\n",
        "\n",
        "\n",
        "class QuizModule(dspy.Module):\n",
        "    \"\"\"Quiz生成モジュール\"\"\"\n",
        "\n",
        "    def __init__(self):\n",
        "        super().__init__()\n",
        "        self.generate = dspy.ChainOfThought(QuizGenerator)\n",
        "\n",
        "    def forward(self, question, answer_text):\n",
        "        return self.generate(\n",
        "            question=question,\n",
        "            answer_text=answer_text\n",
        "        )\n",
        "\n",
        "print(\"✅ Quiz生成モジュール定義完了\")\n"
      ]
    },
    {
      "cell_type": "markdown",
      "metadata": {},
      "source": [
        "## サンプルデータの準備\n"
      ]
    },
    {
      "cell_type": "code",
      "execution_count": null,
      "metadata": {},
      "outputs": [],
      "source": [
        "# サンプルデータの作成\n",
        "sample_question = \"機械学習における深層学習の役割は何ですか？\"\n",
        "\n",
        "sample_answer = \"\"\"\n",
        "深層学習は機械学習の一分野で、多層のニューラルネットワークを使用して複雑なパターンを学習します。\n",
        "従来の機械学習手法と比較して、深層学習は大量のデータから自動的に特徴量を抽出し、\n",
        "画像認識、自然言語処理、音声認識などの分野で優れた性能を発揮します。\n",
        "特に畳み込みニューラルネットワーク（CNN）は画像処理に、リカレントニューラルネットワーク（RNN）は\n",
        "時系列データや自然言語処理に広く使用されています。\n",
        "\"\"\"\n",
        "\n",
        "sample_citations = [\n",
        "    {\n",
        "        \"title\": \"Deep Learning: A Comprehensive Overview\",\n",
        "        \"link\": \"https://arxiv.org/abs/2101.00190\",\n",
        "        \"authors\": [\"Yann LeCun\", \"Yoshua Bengio\", \"Geoffrey Hinton\"]\n",
        "    },\n",
        "    {\n",
        "        \"title\": \"Convolutional Neural Networks for Visual Recognition\",\n",
        "        \"link\": \"https://arxiv.org/abs/1409.1556\",\n",
        "        \"authors\": [\"Alex Krizhevsky\", \"Ilya Sutskever\", \"Geoffrey Hinton\"]\n",
        "    },\n",
        "    {\n",
        "        \"title\": \"Recurrent Neural Networks and LSTM: A Tutorial\",\n",
        "        \"link\": \"https://arxiv.org/abs/1506.00019\",\n",
        "        \"authors\": [\"Andrej Karpathy\", \"Justin Johnson\", \"Li Fei-Fei\"]\n",
        "    }\n",
        "]\n",
        "\n",
        "print(\"✅ サンプルデータ準備完了\")\n",
        "print(f\"質問: {sample_question}\")\n",
        "print(f\"回答の長さ: {len(sample_answer)} 文字\")\n",
        "print(f\"引用文献数: {len(sample_citations)}\")\n"
      ]
    },
    {
      "cell_type": "markdown",
      "metadata": {},
      "source": [
        "## Cornell Note生成の実験\n"
      ]
    },
    {
      "cell_type": "code",
      "execution_count": null,
      "metadata": {},
      "outputs": [],
      "source": [
        "# Cornell Note生成のテスト\n",
        "cornell_module = CornellNoteModule()\n",
        "\n",
        "print(\"🚀 Cornell Note生成を開始...\")\n",
        "try:\n",
        "    result = cornell_module.forward(\n",
        "        question=sample_question,\n",
        "        answer_text=sample_answer,\n",
        "        citations=sample_citations\n",
        "    )\n",
        "\n",
        "    print(\"✅ Cornell Note生成完了\")\n",
        "    print(f\"CUE: {result.cue}\")\n",
        "    print(f\"NOTES: {result.notes}\")\n",
        "    print(f\"SUMMARY: {result.summary}\")\n",
        "\n",
        "except Exception as e:\n",
        "    print(f\"❌ Cornell Note生成エラー: {e}\")\n"
      ]
    },
    {
      "cell_type": "markdown",
      "metadata": {},
      "source": []
    }
  ],
  "metadata": {
    "kernelspec": {
      "display_name": ".venv",
      "language": "python",
      "name": "python3"
    },
    "language_info": {
      "codemirror_mode": {
        "name": "ipython",
        "version": 3
      },
      "file_extension": ".py",
      "mimetype": "text/x-python",
      "name": "python",
      "nbconvert_exporter": "python",
      "pygments_lexer": "ipython3",
      "version": "3.13.0"
    }
  },
  "nbformat": 4,
  "nbformat_minor": 2
}
